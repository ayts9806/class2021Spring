{
  "nbformat": 4,
  "nbformat_minor": 0,
  "metadata": {
    "colab": {
      "name": "필기.ipynb",
      "provenance": [],
      "authorship_tag": "ABX9TyMDYlrZprqFsFuG/+o1zMKE",
      "include_colab_link": true
    },
    "kernelspec": {
      "name": "python3",
      "display_name": "Python 3"
    }
  },
  "cells": [
    {
      "cell_type": "markdown",
      "metadata": {
        "id": "view-in-github",
        "colab_type": "text"
      },
      "source": [
        "<a href=\"https://colab.research.google.com/github/ayts9806/class2021Spring/blob/main/%ED%95%84%EA%B8%B0.ipynb\" target=\"_parent\"><img src=\"https://colab.research.google.com/assets/colab-badge.svg\" alt=\"Open In Colab\"/></a>"
      ]
    },
    {
      "cell_type": "code",
      "metadata": {
        "colab": {
          "base_uri": "https://localhost:8080/"
        },
        "id": "eYLU_9o9vM6J",
        "outputId": "f32070d3-afb4-4086-a612-5e8245469050"
      },
      "source": [
        "a = 1\r\n",
        "print(1)"
      ],
      "execution_count": 1,
      "outputs": [
        {
          "output_type": "stream",
          "text": [
            "1\n"
          ],
          "name": "stdout"
        }
      ]
    },
    {
      "cell_type": "code",
      "metadata": {
        "colab": {
          "base_uri": "https://localhost:8080/"
        },
        "id": "0a0qm-oRvRpJ",
        "outputId": "34bfa7b3-cffe-4860-fa2f-ff8d94305f7f"
      },
      "source": [
        "a = 1\r\n",
        "b = 'love'\r\n",
        "c = [1, 2, 7]\r\n",
        "d = [1, '2', 'love']\r\n",
        "e = (1, '2', 'love')\r\n",
        "f = {'a': 165, 'b':172, 'c':185}\r\n",
        "print(b); print(c); print(d); print(e); print(f)\r\n",
        "print(type(a)); print(type(b)); print(type(d)); print(type(e)); print(type(f))\r\n",
        "# int는 integer이고 str은 stirng\r\n",
        "# string, syntax, variable 세개 파일 내 repository로 복사하기"
      ],
      "execution_count": 9,
      "outputs": [
        {
          "output_type": "stream",
          "text": [
            "love\n",
            "[1, 2, 7]\n",
            "[1, '2', 'love']\n",
            "(1, '2', 'love')\n",
            "{'a': 165, 'b': 172, 'c': 185}\n",
            "<class 'int'>\n",
            "<class 'str'>\n",
            "<class 'list'>\n",
            "<class 'tuple'>\n",
            "<class 'dict'>\n"
          ],
          "name": "stdout"
        }
      ]
    },
    {
      "cell_type": "code",
      "metadata": {
        "id": "oMHCd71ZvjF7"
      },
      "source": [
        ""
      ],
      "execution_count": null,
      "outputs": []
    }
  ]
}