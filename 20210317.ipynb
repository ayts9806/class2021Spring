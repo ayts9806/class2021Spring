{
  "nbformat": 4,
  "nbformat_minor": 0,
  "metadata": {
    "colab": {
      "name": "20210317.ipynb",
      "provenance": [],
      "authorship_tag": "ABX9TyNLzDJR0+AlZ2GGXnOd7BvL",
      "include_colab_link": true
    },
    "kernelspec": {
      "name": "python3",
      "display_name": "Python 3"
    }
  },
  "cells": [
    {
      "cell_type": "markdown",
      "metadata": {
        "id": "view-in-github",
        "colab_type": "text"
      },
      "source": [
        "<a href=\"https://colab.research.google.com/github/ayts9806/class2021Spring/blob/main/20210317.ipynb\" target=\"_parent\"><img src=\"https://colab.research.google.com/assets/colab-badge.svg\" alt=\"Open In Colab\"/></a>"
      ]
    },
    {
      "cell_type": "code",
      "metadata": {
        "colab": {
          "base_uri": "https://localhost:8080/"
        },
        "id": "HshOhbdGuXPI",
        "outputId": "eebc8fd2-c169-4add-fb73-3fe72828eb81"
      },
      "source": [
        "a = [1, 3, 5, 7]\r\n",
        "for i in a:\r\n",
        "  for j in range(len(a)):\r\n",
        "    if i > 4 & j >= 2:\r\n",
        "      print(i - j)\r\n",
        "    else: print(i*j)"
      ],
      "execution_count": 2,
      "outputs": [
        {
          "output_type": "stream",
          "text": [
            "0\n",
            "1\n",
            "2\n",
            "3\n",
            "0\n",
            "3\n",
            "6\n",
            "9\n",
            "0\n",
            "5\n",
            "10\n",
            "15\n",
            "0\n",
            "7\n",
            "14\n",
            "21\n"
          ],
          "name": "stdout"
        }
      ]
    },
    {
      "cell_type": "code",
      "metadata": {
        "colab": {
          "base_uri": "https://localhost:8080/"
        },
        "id": "to427egZvIWp",
        "outputId": "0a6f756e-2f34-4862-9498-2a989d5c4568"
      },
      "source": [
        "a = [2, 4, 6, 8]\r\n",
        "b = [i/2 for i in a if i*i <= 50]\r\n",
        "b"
      ],
      "execution_count": 4,
      "outputs": [
        {
          "output_type": "execute_result",
          "data": {
            "text/plain": [
              "[1.0, 2.0, 3.0]"
            ]
          },
          "metadata": {
            "tags": []
          },
          "execution_count": 4
        }
      ]
    }
  ]
}