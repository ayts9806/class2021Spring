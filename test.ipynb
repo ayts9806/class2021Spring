{
  "nbformat": 4,
  "nbformat_minor": 0,
  "metadata": {
    "colab": {
      "name": "test.ipynb",
      "provenance": [],
      "authorship_tag": "ABX9TyMFOPmC6vwGXq4sv2g+WFD5",
      "include_colab_link": true
    },
    "kernelspec": {
      "name": "python3",
      "display_name": "Python 3"
    }
  },
  "cells": [
    {
      "cell_type": "markdown",
      "metadata": {
        "id": "view-in-github",
        "colab_type": "text"
      },
      "source": [
        "<a href=\"https://colab.research.google.com/github/ayts9806/class2021Spring/blob/main/test.ipynb\" target=\"_parent\"><img src=\"https://colab.research.google.com/assets/colab-badge.svg\" alt=\"Open In Colab\"/></a>"
      ]
    },
    {
      "cell_type": "markdown",
      "metadata": {
        "id": "ZfL5yrKAUFLo"
      },
      "source": [
        "# **오늘 배운 것:**\r\n",
        "## github 계정 만들기, login 해서 repository 만들기 (이름은 class2021Spring)\r\n",
        "\r\n",
        "1. python\r\n",
        "2. markdown\r\n",
        "\r\n",
        "이렇게 colab에서 텍스트 꾸미는 것을 markdown이라고 함.\r\n",
        "ipynb의 형태 자체가 jupyter notebook. jupyter notebook에서 코드, 텍스트 두 가지를 쓸 수 있음."
      ]
    },
    {
      "cell_type": "code",
      "metadata": {
        "colab": {
          "base_uri": "https://localhost:8080/"
        },
        "id": "vSuR6a5-V3nX",
        "outputId": "a386c2bb-5c5d-4932-9f33-b6d5cbabab8d"
      },
      "source": [
        "a = 1\r\n",
        "b = 1\r\n",
        "c = a + b\r\n",
        "c"
      ],
      "execution_count": 1,
      "outputs": [
        {
          "output_type": "execute_result",
          "data": {
            "text/plain": [
              "2"
            ]
          },
          "metadata": {
            "tags": []
          },
          "execution_count": 1
        }
      ]
    },
    {
      "cell_type": "markdown",
      "metadata": {
        "id": "jHQZyXowWO9d"
      },
      "source": [
        "우리는 파이썬을 배우게 됩니다."
      ]
    },
    {
      "cell_type": "markdown",
      "metadata": {
        "id": "2TdCnZ9DWSoE"
      },
      "source": [
        "#파이썬을 어디서 배우나요?\r\n",
        "##Jump to python"
      ]
    }
  ]
}