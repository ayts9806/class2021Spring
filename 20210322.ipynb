{
  "nbformat": 4,
  "nbformat_minor": 0,
  "metadata": {
    "colab": {
      "name": "20210322.ipynb",
      "provenance": [],
      "authorship_tag": "ABX9TyOE38dgDfnteNHI9HBCzReE",
      "include_colab_link": true
    },
    "kernelspec": {
      "name": "python3",
      "display_name": "Python 3"
    },
    "language_info": {
      "name": "python"
    }
  },
  "cells": [
    {
      "cell_type": "markdown",
      "metadata": {
        "id": "view-in-github",
        "colab_type": "text"
      },
      "source": [
        "<a href=\"https://colab.research.google.com/github/ayts9806/class2021Spring/blob/main/20210322.ipynb\" target=\"_parent\"><img src=\"https://colab.research.google.com/assets/colab-badge.svg\" alt=\"Open In Colab\"/></a>"
      ]
    },
    {
      "cell_type": "code",
      "metadata": {
        "id": "u-K0vyGvXroq"
      },
      "source": [
        "def function(x,a,b,c):\n",
        "  y = a*x**2 + b*x + c  #**는 제곱표시. ax라고 하지 말고 a*x라고 곱하기 표시 꼭 해주기.\n",
        "  return y"
      ],
      "execution_count": 5,
      "outputs": []
    },
    {
      "cell_type": "code",
      "metadata": {
        "colab": {
          "base_uri": "https://localhost:8080/"
        },
        "id": "ZAaiwjq_X2eL",
        "outputId": "44098fc2-1393-4271-934b-5a531f07dced"
      },
      "source": [
        "function(3,1,1,1)"
      ],
      "execution_count": 6,
      "outputs": [
        {
          "output_type": "execute_result",
          "data": {
            "text/plain": [
              "13"
            ]
          },
          "metadata": {
            "tags": []
          },
          "execution_count": 6
        }
      ]
    },
    {
      "cell_type": "code",
      "metadata": {
        "id": "6PDqVOk1X7Jc"
      },
      "source": [
        ""
      ],
      "execution_count": null,
      "outputs": []
    }
  ]
}