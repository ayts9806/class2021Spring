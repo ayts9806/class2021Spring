{
  "nbformat": 4,
  "nbformat_minor": 0,
  "metadata": {
    "colab": {
      "name": "module.ipynb",
      "provenance": [],
      "authorship_tag": "ABX9TyOKt0CcHe6S2Hfl6uscq0vc",
      "include_colab_link": true
    },
    "kernelspec": {
      "name": "python3",
      "display_name": "Python 3"
    },
    "language_info": {
      "name": "python"
    }
  },
  "cells": [
    {
      "cell_type": "markdown",
      "metadata": {
        "id": "view-in-github",
        "colab_type": "text"
      },
      "source": [
        "<a href=\"https://colab.research.google.com/github/ayts9806/class2021Spring/blob/main/module.ipynb\" target=\"_parent\"><img src=\"https://colab.research.google.com/assets/colab-badge.svg\" alt=\"Open In Colab\"/></a>"
      ]
    },
    {
      "cell_type": "code",
      "metadata": {
        "id": "gDkqkWrhbTlK"
      },
      "source": [
        "class cal:  #class는 함수와 변수가 동시에 정의 되는 것. 함수는 def로 정의되고 변수는 result. self는 자기 자신의 변수로 취급한다 그런 의미.\n",
        "  def __init__(self):  #init이 있어야 다른 객체가 왔을 때 초기화. init이 없으면 객체가 달라져도 계속 결과가 누적.\n",
        "    self.result = 0  #result 변수에다가 0을 넣으라는 것\n",
        "  def add(self, n):  #여기에서 실질적인 입력은 n만이고 self는 자기를 나타내는 것. \n",
        "    self.result += n  #+=은 자기 자신에다가 n만큼 더하라는 것.\n",
        "    return self.result"
      ],
      "execution_count": 1,
      "outputs": []
    },
    {
      "cell_type": "code",
      "metadata": {
        "colab": {
          "base_uri": "https://localhost:8080/"
        },
        "id": "MiPfNzqTcW6c",
        "outputId": "0704daac-c88b-4f71-86ae-137f6f0aef88"
      },
      "source": [
        "A = cal()  #이 class를 가지고 A를 찍어낸다는 것.\n",
        "A.result  #0이 나오는 것은 result에 0이 들어갔다는 것것"
      ],
      "execution_count": 2,
      "outputs": [
        {
          "output_type": "execute_result",
          "data": {
            "text/plain": [
              "0"
            ]
          },
          "metadata": {
            "tags": []
          },
          "execution_count": 2
        }
      ]
    },
    {
      "cell_type": "code",
      "metadata": {
        "colab": {
          "base_uri": "https://localhost:8080/"
        },
        "id": "jWu_VJoBcr7y",
        "outputId": "5f469ff3-1f88-434a-c8e4-aeaa64a7c7a4"
      },
      "source": [
        "A.add(4)  #원래 result가 0이었는데 거기에 추가로 4가 더해져서 4가 나옴."
      ],
      "execution_count": 3,
      "outputs": [
        {
          "output_type": "execute_result",
          "data": {
            "text/plain": [
              "4"
            ]
          },
          "metadata": {
            "tags": []
          },
          "execution_count": 3
        }
      ]
    },
    {
      "cell_type": "code",
      "metadata": {
        "colab": {
          "base_uri": "https://localhost:8080/"
        },
        "id": "Gmbl8dbhdNpJ",
        "outputId": "6540644b-d6b2-4a2b-e1d3-5dba8615ab70"
      },
      "source": [
        "A.add(6)  #result가 위에서 4가 돼서 거기에 6을 더해서 10이 나온 듯."
      ],
      "execution_count": 4,
      "outputs": [
        {
          "output_type": "execute_result",
          "data": {
            "text/plain": [
              "10"
            ]
          },
          "metadata": {
            "tags": []
          },
          "execution_count": 4
        }
      ]
    },
    {
      "cell_type": "code",
      "metadata": {
        "colab": {
          "base_uri": "https://localhost:8080/"
        },
        "id": "BcbbZBddddUm",
        "outputId": "6c1b062b-d9ae-4891-fe81-ddc083c92be7"
      },
      "source": [
        "B = cal()\n",
        "B.result  #B는 새로 만들었기 때문에 result는 0."
      ],
      "execution_count": 5,
      "outputs": [
        {
          "output_type": "execute_result",
          "data": {
            "text/plain": [
              "0"
            ]
          },
          "metadata": {
            "tags": []
          },
          "execution_count": 5
        }
      ]
    },
    {
      "cell_type": "code",
      "metadata": {
        "colab": {
          "base_uri": "https://localhost:8080/"
        },
        "id": "0k0Iv_48dnEY",
        "outputId": "6b690412-9202-460e-988d-332af28ae817"
      },
      "source": [
        "B.add(5)"
      ],
      "execution_count": 6,
      "outputs": [
        {
          "output_type": "execute_result",
          "data": {
            "text/plain": [
              "5"
            ]
          },
          "metadata": {
            "tags": []
          },
          "execution_count": 6
        }
      ]
    },
    {
      "cell_type": "code",
      "metadata": {
        "id": "4GtoBC6ObkJA"
      },
      "source": [
        "def func(a, b, x):\n",
        "  y = a*x + b\n",
        "  return y"
      ],
      "execution_count": null,
      "outputs": []
    }
  ]
}