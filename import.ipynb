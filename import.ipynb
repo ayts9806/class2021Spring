{
  "nbformat": 4,
  "nbformat_minor": 0,
  "metadata": {
    "colab": {
      "name": "import.ipynb",
      "provenance": [],
      "include_colab_link": true
    },
    "kernelspec": {
      "name": "python3",
      "display_name": "Python 3"
    },
    "language_info": {
      "name": "python"
    }
  },
  "cells": [
    {
      "cell_type": "markdown",
      "metadata": {
        "id": "view-in-github",
        "colab_type": "text"
      },
      "source": [
        "<a href=\"https://colab.research.google.com/github/ayts9806/class2021Spring/blob/main/import.ipynb\" target=\"_parent\"><img src=\"https://colab.research.google.com/assets/colab-badge.svg\" alt=\"Open In Colab\"/></a>"
      ]
    },
    {
      "cell_type": "code",
      "metadata": {
        "id": "JXicrkYOzPRo",
        "colab": {
          "base_uri": "https://localhost:8080/"
        },
        "outputId": "88049599-63c0-45d8-936a-700c11dc8cd0"
      },
      "source": [
        "import numpy as np  #numpy라는 패키지를 불러오는 것\n",
        "n = np.random.randn(100)  #import를 쓸 때는 외부패키지를 불러오는 것. numpy같이 많이 쓰는 패키지는 이미 colab에 install되어 있어서 바로 import 가능 한 것이고, 그게 아니면 직접 install 해야 함.\n",
        "n"
      ],
      "execution_count": 4,
      "outputs": [
        {
          "output_type": "execute_result",
          "data": {
            "text/plain": [
              "array([-0.11120068, -0.15937539,  0.29219765,  0.06686661, -0.09611828,\n",
              "        1.20756967, -1.18718778,  0.41194657, -1.19953188,  0.87052612,\n",
              "        0.06714841, -1.53257989,  0.57672694, -1.56350943,  1.30759321,\n",
              "        0.51647077,  0.33390494, -0.01287818,  0.28903847, -0.55983355,\n",
              "       -0.58632265, -0.14858091,  0.82297832,  0.06161825,  1.05192369,\n",
              "       -0.1520905 , -0.06299092, -1.52207595, -1.37250618,  0.47754791,\n",
              "        0.69093332, -0.85105741, -1.29350485, -1.1070923 , -1.26364088,\n",
              "        1.53741651,  0.86904124, -0.94405942,  0.67974325, -0.61366908,\n",
              "        0.80082157,  1.23367349,  0.95527965, -0.46374777,  0.11638517,\n",
              "        0.00435189, -1.41598531, -0.14560881,  2.02082316, -0.17640967,\n",
              "       -0.01358353,  0.98719638, -0.00511895, -1.86725858, -1.78013919,\n",
              "       -1.42026792,  1.45195444, -0.09281307,  1.01649354, -0.4739185 ,\n",
              "        1.35109768, -0.75093992,  1.63258763,  0.53192494, -0.15438812,\n",
              "       -0.8431158 , -0.09414798,  1.88032863, -0.21965673,  1.29223323,\n",
              "       -0.41331663, -1.03294089, -0.36931275,  0.68237481,  0.99089191,\n",
              "       -2.0346242 ,  2.46619197, -0.79294678, -0.99340873,  0.54221348,\n",
              "       -0.70350852, -0.71602753,  0.15959035,  0.28895163,  0.95766373,\n",
              "        1.02764636, -0.82146628,  0.30478136, -0.36929047,  1.07347044,\n",
              "        0.85353786, -0.08330856, -0.06773622,  1.99489128, -0.17839894,\n",
              "       -1.64306084, -1.26555603, -0.09004413, -0.608135  , -0.11932213])"
            ]
          },
          "metadata": {
            "tags": []
          },
          "execution_count": 4
        }
      ]
    },
    {
      "cell_type": "code",
      "metadata": {
        "id": "oKT4vn4MwyLA",
        "colab": {
          "base_uri": "https://localhost:8080/",
          "height": 353
        },
        "outputId": "29d43a43-9358-4b1c-db2a-36e7c133e596"
      },
      "source": [
        "import matplotlib\n",
        "import matplotlib.pyplot  #matplotlib라는 패키지에서 pyplot라는 모듈을 불러오는 것.\n",
        "from matplotlib import pyplot\n",
        "from matplotlib.pyplot import hist  #pyplot 내에 있는 hist라는 함수를 불러오는 것.\n",
        "hist(n)  #from matplotlib.pyplot import hist라고 썼으면 이렇게 바로 hist로 쓸 수 있고, import matplotlib만 했으면 matplotlib.pyplot.hist(n) 이렇게 해도 됨. from matplotlib import pyplot.hist라고 해도 됨."
      ],
      "execution_count": 5,
      "outputs": [
        {
          "output_type": "execute_result",
          "data": {
            "text/plain": [
              "(array([ 4., 11., 11.,  9., 26., 11., 16.,  7.,  3.,  2.]),\n",
              " array([-2.0346242 , -1.58454259, -1.13446097, -0.68437935, -0.23429773,\n",
              "         0.21578388,  0.6658655 ,  1.11594712,  1.56602873,  2.01611035,\n",
              "         2.46619197]),\n",
              " <a list of 10 Patch objects>)"
            ]
          },
          "metadata": {
            "tags": []
          },
          "execution_count": 5
        },
        {
          "output_type": "display_data",
          "data": {
            "image/png": "[encoded data removed]",
            "text/plain": [
              "<Figure size 432x288 with 1 Axes>"
            ]
          },
          "metadata": {
            "tags": [],
            "needs_background": "light"
          }
        }
      ]
    },
    {
      "cell_type": "code",
      "metadata": {
        "id": "wMMvtMSlhb0r"
      },
      "source": [
        ""
      ],
      "execution_count": null,
      "outputs": []
    }
  ]
}