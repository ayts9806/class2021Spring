{
  "nbformat": 4,
  "nbformat_minor": 0,
  "metadata": {
    "colab": {
      "name": "20210331.ipynb",
      "provenance": [],
      "authorship_tag": "ABX9TyPdJrSgGKusSQHK0z8vuw4k",
      "include_colab_link": true
    },
    "kernelspec": {
      "name": "python3",
      "display_name": "Python 3"
    },
    "language_info": {
      "name": "python"
    }
  },
  "cells": [
    {
      "cell_type": "markdown",
      "metadata": {
        "id": "view-in-github",
        "colab_type": "text"
      },
      "source": [
        "<a href=\"https://colab.research.google.com/github/ayts9806/class2021Spring/blob/main/20210331.ipynb\" target=\"_parent\"><img src=\"https://colab.research.google.com/assets/colab-badge.svg\" alt=\"Open In Colab\"/></a>"
      ]
    },
    {
      "cell_type": "markdown",
      "metadata": {
        "id": "f7vuPEcd4zJX"
      },
      "source": [
        "[a]\n",
        "\n",
        "pitch : 146hz\n",
        "\n",
        "intesity : 75dB\n",
        "\n",
        "formant : f1 - 750hz/   f2 - 1150hz\n",
        "\n",
        "duration : 0.42sec\n",
        "\n",
        "\n",
        "[e]\n",
        "\n",
        "pitch : 150hz\n",
        "\n",
        "intensity : 74dB\n",
        "\n",
        "formant : f1 - 650hz/   f2 - 1750hz\n",
        "\n",
        "duration : 0.43sec"
      ]
    }
  ]
}