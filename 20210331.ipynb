{
  "nbformat": 4,
  "nbformat_minor": 0,
  "metadata": {
    "colab": {
      "name": "20210331.ipynb",
      "provenance": [],
      "authorship_tag": "ABX9TyNsKU7Gr1Sd1f5hqtw8Gx+u",
      "include_colab_link": true
    },
    "kernelspec": {
      "name": "python3",
      "display_name": "Python 3"
    },
    "language_info": {
      "name": "python"
    }
  },
  "cells": [
    {
      "cell_type": "markdown",
      "metadata": {
        "id": "view-in-github",
        "colab_type": "text"
      },
      "source": [
        "<a href=\"https://colab.research.google.com/github/ayts9806/class2021Spring/blob/main/20210331.ipynb\" target=\"_parent\"><img src=\"https://colab.research.google.com/assets/colab-badge.svg\" alt=\"Open In Colab\"/></a>"
      ]
    },
    {
      "cell_type": "markdown",
      "metadata": {
        "id": "f7vuPEcd4zJX"
      },
      "source": [
        "[a]\n",
        "pitch : 146hz\n",
        "intesity : 75dB\n",
        "formant : f1 - 750hz   f2 - 1150hz\n",
        "duration : 0.42sec\n",
        "\n",
        "\n",
        "[e]\n",
        "pitch: 150hz\n",
        "intensity: 74dB\n",
        "formant : f1 - 650hz   f2 - 1750hz\n",
        "duration : 0.43sec"
      ]
    }
  ]
}