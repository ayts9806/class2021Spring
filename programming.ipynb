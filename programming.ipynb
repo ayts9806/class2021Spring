{
  "nbformat": 4,
  "nbformat_minor": 0,
  "metadata": {
    "colab": {
      "name": "programming.ipynb",
      "provenance": [],
      "authorship_tag": "ABX9TyNYEXdbGIGTQv7KyaQRXqxB",
      "include_colab_link": true
    },
    "kernelspec": {
      "name": "python3",
      "display_name": "Python 3"
    }
  },
  "cells": [
    {
      "cell_type": "markdown",
      "metadata": {
        "id": "view-in-github",
        "colab_type": "text"
      },
      "source": [
        "<a href=\"https://colab.research.google.com/github/ayts9806/class2021Spring/blob/main/programming.ipynb\" target=\"_parent\"><img src=\"https://colab.research.google.com/assets/colab-badge.svg\" alt=\"Open In Colab\"/></a>"
      ]
    },
    {
      "cell_type": "markdown",
      "metadata": {
        "id": "UcLNB6HFpAdt"
      },
      "source": [
        "인간의 언어는 단어 + 문법으로 구성. ‘사과’에는 사과의 개념이 들어가 있음. 프로그래밍 언어도 a=1하면 a에는 1이라는 숫자가 들어가 있는 것. 이 a를 variable 즉 ***변수***라고 함. 여기서 =기호는 오른쪽 내용을 왼쪽에 assign하는 것. 이것이 프로그래밍 언어의 단어. 컴퓨터 언어에서 문법은 ***제어문***이라고 함. 반복을 하기 위해서는 for을 씀. 조건을 위해서는 if를 씀. 모든 컴퓨터 언어는 두 요소를 포함. For 100 print(1)하면 1을 100번 프린트. a=1이고 if a==1 print(3)하면 3을 프린트 할 것. 이 때 ==는 assign이 아니라 진짜 같다는 것.\r\n",
        "***함수***는 입출력 관계가 있는 것. 입력 -> 출력 일 때 그 과정에서 있는 변화가 함수. 인간의 몸도 함수라고 할 수 있음. 음식을 먹으면 내부과정을 거쳐 배출되는 것. 함수의 종류는 매우 많음. Ai도 다 함수. y=ax+b인 일차함수가 가장 기본적인 함수. Ai는 많은 일차함수로 구성되어 있음. 계속 a+b를 반복해야 할 경우에 이를 함수로 add(a, b)로 할 수 있음. 계속 반복될 때 함수는 모듈로서 잘 작동할 수 있음.\r\n"
      ]
    }
  ]
}